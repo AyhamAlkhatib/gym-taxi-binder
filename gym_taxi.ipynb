import gym
import numpy as np
import random

# create Taxi environment
env = gym.make('Taxi-v3')

# create a new instance of taxi, and get the initial state
state = env.reset()

num_steps = 99
for s in range(num_steps+1):
    print(f"step: {s} out of {num_steps}")

    # sample a random action from the list of available actions
    action = env.action_space.sample()

    # perform this action on the environment
    state, reward, done, info = env.step(action)

    # print the new state
    print(f"New State: {state}, Reward: {reward}")

    if done:
        break  # Stop if the episode ends

# end this instance of the taxi environment
env.close()
