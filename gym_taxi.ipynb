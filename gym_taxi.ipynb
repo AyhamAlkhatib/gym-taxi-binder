{
 "cells": [
  {
   "cell_type": "code",
   "execution_count": null,
   "id": "346a16af-c7b5-4239-aa55-3b72666c98a4",
   "metadata": {},
   "outputs": [],
   "source": [
    "import gym\n",
    "import numpy as np\n",
    "import random\n",
    "\n",
    "# create Taxi environment\n",
    "env = gym.make('Taxi-v3')\n",
    "\n",
    "# create a new instance of taxi, and get the initial state\n",
    "state = env.reset()\n",
    "\n",
    "num_steps = 99\n",
    "for s in range(num_steps+1):\n",
    "    print(f\"step: {s} out of {num_steps}\")\n",
    "\n",
    "    # sample a random action from the list of available actions\n",
    "    action = env.action_space.sample()\n",
    "\n",
    "    # perform this action on the environment\n",
    "    state, reward, done, info = env.step(action)\n",
    "\n",
    "    # print the new state\n",
    "    print(f\"New State: {state}, Reward: {reward}\")\n",
    "\n",
    "    if done:\n",
    "        break  # Stop if the episode ends\n",
    "\n",
    "# end this instance of the taxi environment\n",
    "env.close()"
   ]
  }
 ],
 "metadata": {
  "kernelspec": {
   "display_name": "Python 3 (ipykernel)",
   "language": "python",
   "name": "python3"
  },
  "language_info": {
   "codemirror_mode": {
    "name": "ipython",
    "version": 3
   },
   "file_extension": ".py",
   "mimetype": "text/x-python",
   "name": "python",
   "nbconvert_exporter": "python",
   "pygments_lexer": "ipython3",
   "version": "3.13.2"
  }
 },
 "nbformat": 4,
 "nbformat_minor": 5
}
